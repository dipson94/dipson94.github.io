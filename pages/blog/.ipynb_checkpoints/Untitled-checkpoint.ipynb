{
 "cells": [
  {
   "cell_type": "code",
   "execution_count": 25,
   "id": "e401c83d-ab8e-42ed-a128-1e7634c8a76b",
   "metadata": {},
   "outputs": [],
   "source": [
    "def main():\n",
    "    import pandas as pd\n",
    "    try:\n",
    "        df=pd.read_csv(\"posts.csv\")\n",
    "    except:\n",
    "        if str(input(\"posts.csv file doesnot exists Do you want to create one (y/n) ?\"))==\"y\":\n",
    "            df=pd.DataFrame(columns=['Heading', 'Date', 'Link', 'img', 'content'])\n",
    "            df.to_csv(\"posts.csv\",index=None)\n",
    "        else:\n",
    "            return 0\n",
    "            \n",
    "    print(\"\"\"\n",
    "    1. Append new post\n",
    "    2. Delete a post\n",
    "    \n",
    "    \"\"\")\n",
    "    if int(input(\"Enter the option :\"))==2:\n",
    "        print(\"\"\"\n",
    "        Records\n",
    "        \"\"\")\n",
    "        print(df.iloc[:,:2])\n",
    "        num=int(input(\"Enter the record number :\"))\n",
    "        try:\n",
    "            df=df.drop(index=df.iloc[num].name)\n",
    "        except:\n",
    "            print(\"\\n index doesnot exists\\n\")\n",
    "        \n",
    "    else:\n",
    "        Heading=str(input(\"Enter the Heading : \"))\n",
    "        name_link=str(input(\"Enter blog page name : \"))\n",
    "        date=str(input(\"Enter the Date (dd/mm/yyyy) : \"))\n",
    "        img=str(input(\"Enter the IMG name : \"))\n",
    "        content=str(input(\"Enter the Content : \"))\n",
    "        \n",
    "        \n",
    "        L=[Heading,date,name_link,img,content]\n",
    "        ch=0\n",
    "        for x in L:\n",
    "            if x==\"\":\n",
    "                ch=1\n",
    "                break\n",
    "        if ch==0:\n",
    "            df.loc[len(df)]=L\n",
    "        \n",
    "    df.to_csv(\"posts.csv\",index=None)\n",
    "    \n",
    "    s=\"\"\n",
    "    for x in range(len(df)):\n",
    "        Heading=df.iloc[x,0]\n",
    "        date=df.iloc[x,1]\n",
    "        name_link=df.iloc[x,2]\n",
    "        img=df.iloc[x,3]\n",
    "        content=df.iloc[x,4]\n",
    "        st=\"\"\n",
    "        for i,x in enumerate(content.split(\" \")):\n",
    "            if i>30:\n",
    "                break\n",
    "            st=st+x+\" \"\n",
    "        st=st+\"<a href='\"+name_link+\"' style='text-decoration: none;'> (Continue reading)... </a>\"\n",
    "        s=s+\"<h3>\"+Heading+\"</h3><table border=0><tr><td><img width=500px src='../../data/images_data/blog/\"+img+\"'></td><td style='padding-left: 5%;padding-right: 5%;padding-bottom: 5%;text-align: justify;vertical-align: top;'><p>\"+st+'</p></td></tr></table>\",'\n",
    "    \n",
    "    s='const posts = [\"'+s[:-1]+'\"];'\n",
    "    \n",
    "    with open(\"posts.js\",\"w\") as w:\n",
    "        file=w.write(s)\n",
    "    return 1"
   ]
  },
  {
   "cell_type": "code",
   "execution_count": 34,
   "id": "bca9af94-6c14-44cf-aacf-d968220a11de",
   "metadata": {},
   "outputs": [
    {
     "data": {
      "text/html": [
       "<div>\n",
       "<style scoped>\n",
       "    .dataframe tbody tr th:only-of-type {\n",
       "        vertical-align: middle;\n",
       "    }\n",
       "\n",
       "    .dataframe tbody tr th {\n",
       "        vertical-align: top;\n",
       "    }\n",
       "\n",
       "    .dataframe thead th {\n",
       "        text-align: right;\n",
       "    }\n",
       "</style>\n",
       "<table border=\"1\" class=\"dataframe\">\n",
       "  <thead>\n",
       "    <tr style=\"text-align: right;\">\n",
       "      <th></th>\n",
       "      <th>Heading</th>\n",
       "      <th>Date</th>\n",
       "      <th>Link</th>\n",
       "      <th>img</th>\n",
       "      <th>content</th>\n",
       "    </tr>\n",
       "  </thead>\n",
       "  <tbody>\n",
       "  </tbody>\n",
       "</table>\n",
       "</div>"
      ],
      "text/plain": [
       "Empty DataFrame\n",
       "Columns: [Heading, Date, Link, img, content]\n",
       "Index: []"
      ]
     },
     "execution_count": 34,
     "metadata": {},
     "output_type": "execute_result"
    }
   ],
   "source": [
    "import pandas as pd\n",
    "df=pd.read_csv(\"posts.csv\")\n",
    "df"
   ]
  },
  {
   "cell_type": "code",
   "execution_count": 33,
   "id": "15c3cc91-76f0-417e-a8c0-bbdb3e545c0d",
   "metadata": {},
   "outputs": [],
   "source": [
    "df.to_csv(\"posts.csv\",index=None)"
   ]
  },
  {
   "cell_type": "code",
   "execution_count": 32,
   "id": "e329f0b0-05e3-4ec6-a43f-077fe4c6fa5c",
   "metadata": {},
   "outputs": [],
   "source": []
  },
  {
   "cell_type": "code",
   "execution_count": 35,
   "id": "7bd0cd99-7afc-4e5b-82f5-0a17b61cfd18",
   "metadata": {},
   "outputs": [
    {
     "data": {
      "text/plain": [
       "Index(['Heading', 'Date', 'Link', 'img', 'content'], dtype='object')"
      ]
     },
     "execution_count": 35,
     "metadata": {},
     "output_type": "execute_result"
    }
   ],
   "source": [
    "df.columns"
   ]
  },
  {
   "cell_type": "code",
   "execution_count": 36,
   "id": "85834311-6fac-4fe3-8ace-72f246abd8da",
   "metadata": {},
   "outputs": [
    {
     "data": {
      "text/html": [
       "<div>\n",
       "<style scoped>\n",
       "    .dataframe tbody tr th:only-of-type {\n",
       "        vertical-align: middle;\n",
       "    }\n",
       "\n",
       "    .dataframe tbody tr th {\n",
       "        vertical-align: top;\n",
       "    }\n",
       "\n",
       "    .dataframe thead th {\n",
       "        text-align: right;\n",
       "    }\n",
       "</style>\n",
       "<table border=\"1\" class=\"dataframe\">\n",
       "  <thead>\n",
       "    <tr style=\"text-align: right;\">\n",
       "      <th></th>\n",
       "      <th>Heading</th>\n",
       "      <th>Date</th>\n",
       "      <th>Link</th>\n",
       "      <th>img</th>\n",
       "      <th>content</th>\n",
       "    </tr>\n",
       "  </thead>\n",
       "  <tbody>\n",
       "  </tbody>\n",
       "</table>\n",
       "</div>"
      ],
      "text/plain": [
       "Empty DataFrame\n",
       "Columns: [Heading, Date, Link, img, content]\n",
       "Index: []"
      ]
     },
     "execution_count": 36,
     "metadata": {},
     "output_type": "execute_result"
    }
   ],
   "source": []
  }
 ],
 "metadata": {
  "kernelspec": {
   "display_name": "Python 3 (ipykernel)",
   "language": "python",
   "name": "python3"
  },
  "language_info": {
   "codemirror_mode": {
    "name": "ipython",
    "version": 3
   },
   "file_extension": ".py",
   "mimetype": "text/x-python",
   "name": "python",
   "nbconvert_exporter": "python",
   "pygments_lexer": "ipython3",
   "version": "3.11.3"
  }
 },
 "nbformat": 4,
 "nbformat_minor": 5
}
