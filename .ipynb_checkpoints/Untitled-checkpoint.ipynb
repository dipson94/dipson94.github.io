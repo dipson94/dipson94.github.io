{
 "cells": [
  {
   "cell_type": "code",
   "execution_count": 28,
   "id": "5f0647d6-98fd-4fc6-a7a8-2b2274579135",
   "metadata": {
    "collapsed": true,
    "jupyter": {
     "outputs_hidden": true
    }
   },
   "outputs": [
    {
     "name": "stdin",
     "output_type": "stream",
     "text": [
      "Enter the Heading :  Reasons why its best to start with python\n",
      "Enter blog page name :  why python.html\n",
      "Enter the Date (dd/mm/yyyy) :  12/07/2023\n",
      "Enter the IMG name :  1.jpeg\n",
      "Enter the Content :  Lorem ipsum dolor sit amet, consectetur adipiscing elit, sed do eiusmod tempor incididunt ut labore et dolore magna aliqua. Ut enim ad minim veniam, quis nostrud exercitation ullamco laboris nisi ut aliquip ex ea commodo consequat. Duis aute irure dolor in reprehenderit in voluptate velit esse cillum dolore eu fugiat nulla pariatur. Excepteur sint occaecat cupidatat non proident, sunt in culpa qui officia deserunt mollit anim id est laborum.\n"
     ]
    }
   ],
   "source": [
    "Heading=str(input(\"Enter the Heading : \"))\n",
    "name_link=str(input(\"Enter blog page name : \"))\n",
    "date=str(input(\"Enter the Date (dd/mm/yyyy) : \"))\n",
    "img=str(input(\"Enter the IMG name : \"))\n",
    "content=str(input(\"Enter the Content : \"))"
   ]
  },
  {
   "cell_type": "code",
   "execution_count": 36,
   "id": "577ba8a9-e9de-4f3b-976a-3549f5cb7449",
   "metadata": {},
   "outputs": [],
   "source": [
    "import pandas as pd\n",
    "df=pd.read_csv(\"posts.csv\")\n",
    "df.loc[len(df)]=[Heading,date,name_link,img,content]\n",
    "df.to_csv(\"posts.csv\")"
   ]
  },
  {
   "cell_type": "code",
   "execution_count": 46,
   "id": "9b4359c7-4751-49cb-863e-e9c636a76af2",
   "metadata": {},
   "outputs": [
    {
     "data": {
      "text/html": [
       "<div>\n",
       "<style scoped>\n",
       "    .dataframe tbody tr th:only-of-type {\n",
       "        vertical-align: middle;\n",
       "    }\n",
       "\n",
       "    .dataframe tbody tr th {\n",
       "        vertical-align: top;\n",
       "    }\n",
       "\n",
       "    .dataframe thead th {\n",
       "        text-align: right;\n",
       "    }\n",
       "</style>\n",
       "<table border=\"1\" class=\"dataframe\">\n",
       "  <thead>\n",
       "    <tr style=\"text-align: right;\">\n",
       "      <th></th>\n",
       "      <th>Heading</th>\n",
       "      <th>Date</th>\n",
       "      <th>Link</th>\n",
       "      <th>img</th>\n",
       "      <th>content</th>\n",
       "    </tr>\n",
       "  </thead>\n",
       "  <tbody>\n",
       "    <tr>\n",
       "      <th>0</th>\n",
       "      <td>Reasons why its best to start with python</td>\n",
       "      <td>12/07/2023</td>\n",
       "      <td>why python.html</td>\n",
       "      <td>1.jpeg</td>\n",
       "      <td>Lorem ipsum dolor sit amet, consectetur adipis...</td>\n",
       "    </tr>\n",
       "    <tr>\n",
       "      <th>1</th>\n",
       "      <td>Reasons why its best to start with python</td>\n",
       "      <td>12/07/2023</td>\n",
       "      <td>why python.html</td>\n",
       "      <td>1.jpeg</td>\n",
       "      <td>Lorem ipsum dolor sit amet, consectetur adipis...</td>\n",
       "    </tr>\n",
       "  </tbody>\n",
       "</table>\n",
       "</div>"
      ],
      "text/plain": [
       "                                     Heading  ...                                            content\n",
       "0  Reasons why its best to start with python  ...  Lorem ipsum dolor sit amet, consectetur adipis...\n",
       "1  Reasons why its best to start with python  ...  Lorem ipsum dolor sit amet, consectetur adipis...\n",
       "\n",
       "[2 rows x 5 columns]"
      ]
     },
     "execution_count": 46,
     "metadata": {},
     "output_type": "execute_result"
    }
   ],
   "source": [
    "df"
   ]
  },
  {
   "cell_type": "code",
   "execution_count": 57,
   "id": "220817ff-38f8-42ec-bc40-854c37ff1c71",
   "metadata": {},
   "outputs": [],
   "source": [
    "s=\"\"\n",
    "for x in range(len(df)):\n",
    "    Heading=df.iloc[x,0]\n",
    "    date=df.iloc[x,1]\n",
    "    name_link=df.iloc[x,2]\n",
    "    img=df.iloc[x,3]\n",
    "    content=df.iloc[x,4]\n",
    "    st=\"\"\n",
    "    for i,x in enumerate(content.split(\" \")):\n",
    "        if i>20:\n",
    "            break\n",
    "        st=st+x+\" \"\n",
    "    st=st+\"<a href='\"+name_link+\"' style='text-decoration: none;'> (Continue reading)... </a>\"\n",
    "    s=s+\"<h3>\"+Heading+\"</h3><table border=0><tr><td><img width=500px src='../../data/images_data/blog/\"+img+\"'></td><td style='padding-left: 5%;padding-right: 5%;padding-bottom: 5%;text-align: justify'><p>\"+st+\"</p></td></tr></table>,\"\n",
    "\n",
    "s='const posts = [\"'+s[:-1]+'\"];'\n",
    "\n",
    "with open(\"posts.js\",\"w\") as w:\n",
    "    file=w.write(s)"
   ]
  }
 ],
 "metadata": {
  "kernelspec": {
   "display_name": "Python 3 (ipykernel)",
   "language": "python",
   "name": "python3"
  },
  "language_info": {
   "codemirror_mode": {
    "name": "ipython",
    "version": 3
   },
   "file_extension": ".py",
   "mimetype": "text/x-python",
   "name": "python",
   "nbconvert_exporter": "python",
   "pygments_lexer": "ipython3",
   "version": "3.11.3"
  }
 },
 "nbformat": 4,
 "nbformat_minor": 5
}
